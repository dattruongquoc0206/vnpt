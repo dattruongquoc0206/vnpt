{
 "cells": [
  {
   "cell_type": "code",
   "execution_count": 4,
   "metadata": {},
   "outputs": [],
   "source": [
    "import os\n",
    "import librosa\n",
    "import numpy as np\n",
    "import sqlite3"
   ]
  },
  {
   "cell_type": "code",
   "execution_count": 5,
   "metadata": {},
   "outputs": [],
   "source": [
    "def get_size_kb(file_path):\n",
    "    return os.path.getsize(file_path)/1024\n",
    "\n",
    "def calculate_silence_ratio(file_path, silence_threshold=1e-4, frame_length=2048, hop_length=512):\n",
    "    # Load the audio file\n",
    "    y, sr = librosa.load(file_path, sr=None)\n",
    "\n",
    "    # Calculate the total duration of the audio in seconds\n",
    "    total_duration = len(y) / sr\n",
    "\n",
    "    # Calculate the short-term energy for each frame\n",
    "    energy = np.array([\n",
    "        np.sum(np.abs(y[i:i+frame_length]**2))\n",
    "        for i in range(0, len(y), hop_length)\n",
    "    ])\n",
    "\n",
    "    # Define silence as frames where energy is below the threshold\n",
    "    silent_frames = np.sum(energy < silence_threshold)\n",
    "\n",
    "    # Calculate the duration of silent frames in seconds\n",
    "    silent_duration = (silent_frames * hop_length) / sr\n",
    "\n",
    "    # Calculate the silence ratio\n",
    "    silence_ratio = silent_duration / total_duration\n",
    "\n",
    "    return silence_ratio\n",
    "\n",
    "def get_wav_informations(file_path):\n",
    "    # name = os.path.basename(file_path)\n",
    "    size = get_size_kb(file_path)\n",
    "    wav, sr = librosa.load(file_path)\n",
    "    duration = librosa.get_duration(y=wav, sr=sr)\n",
    "    channel = len(wav.shape)\n",
    "    silence_ratio = calculate_silence_ratio(file_path)\n",
    "    size = get_size_kb(file_path)\n",
    "    return size, sr, channel, duration, silence_ratio"
   ]
  },
  {
   "cell_type": "code",
   "execution_count": 6,
   "metadata": {},
   "outputs": [],
   "source": [
    "folder_path = r\"C:\\Users\\tqdcr\\OneDrive\\Documents\\vnpt\\s2t\\rd\""
   ]
  },
  {
   "cell_type": "code",
   "execution_count": 7,
   "metadata": {},
   "outputs": [],
   "source": [
    "con = sqlite3.connect(\"wav.db\")"
   ]
  },
  {
   "cell_type": "code",
   "execution_count": 8,
   "metadata": {},
   "outputs": [],
   "source": [
    "cur = con.cursor()"
   ]
  },
  {
   "cell_type": "code",
   "execution_count": null,
   "metadata": {},
   "outputs": [],
   "source": [
    "cur.execute(\"CREATE TABLE wav(file_name, file_path, file_size, sr, channel, duration, silence_ratio)\")"
   ]
  },
  {
   "cell_type": "code",
   "execution_count": null,
   "metadata": {},
   "outputs": [],
   "source": [
    "cur.execute(\"CREATE TABLE wav_nlp(file_name, file_path, file_size, sr, channel, duration, silence_ratio)\")"
   ]
  },
  {
   "cell_type": "code",
   "execution_count": 53,
   "metadata": {},
   "outputs": [],
   "source": [
    "if os.path.exists(folder_path):\n",
    "    # Loop through each file in the folder\n",
    "    for file_name in os.listdir(folder_path):\n",
    "        file_path = os.path.join(folder_path, file_name)\n",
    "        # remove noise file before processing\n",
    "        if get_size_kb(file_path) > 1:        \n",
    "        # Only process files, not subdirectories\n",
    "            if os.path.isfile(file_path):\n",
    "                file_size, sr, channel, duration, silence_ratio = get_wav_informations(file_path)\n",
    "                # print(f\"{file_name}: {file_size}, {sr}, {channel}, {duration}, {silence_ratio}\")\n",
    "                cur.execute(f\"\"\"INSERT INTO wav VALUES (\"{file_name}\", \"{file_path}\", {file_size}, {sr}, {channel}, {duration}, {silence_ratio})\"\"\")\n",
    "                con.commit()"
   ]
  },
  {
   "cell_type": "code",
   "execution_count": 56,
   "metadata": {},
   "outputs": [],
   "source": [
    "def resampled_wav_function(wav, orig_sr, target_sr):\n",
    "  resampled_wav = librosa.resample(wav, orig_sr=orig_sr, target_sr=target_sr)\n",
    "  return resampled_wav"
   ]
  },
  {
   "cell_type": "code",
   "execution_count": 1,
   "metadata": {},
   "outputs": [
    {
     "name": "stderr",
     "output_type": "stream",
     "text": [
      "C:\\Users\\tqdcr\\AppData\\Local\\Packages\\PythonSoftwareFoundation.Python.3.12_qbz5n2kfra8p0\\LocalCache\\local-packages\\Python312\\site-packages\\tqdm\\auto.py:21: TqdmWarning: IProgress not found. Please update jupyter and ipywidgets. See https://ipywidgets.readthedocs.io/en/stable/user_install.html\n",
      "  from .autonotebook import tqdm as notebook_tqdm\n"
     ]
    }
   ],
   "source": [
    "from transformers import pipeline"
   ]
  },
  {
   "cell_type": "code",
   "execution_count": 2,
   "metadata": {},
   "outputs": [],
   "source": [
    "transcriber = pipeline(\"automatic-speech-recognition\", model=\"vinai/PhoWhisper-medium\")"
   ]
  },
  {
   "cell_type": "code",
   "execution_count": null,
   "metadata": {},
   "outputs": [],
   "source": [
    "for row in cur.execute(\"SELECT file_name, file_path FROM wav\"):\n",
    "    print(output = transcriber(wav)['text'])    "
   ]
  },
  {
   "cell_type": "code",
   "execution_count": null,
   "metadata": {},
   "outputs": [],
   "source": [
    "if os.path.exists(folder_path):\n",
    "# Loop through each file in the folder\n",
    "    for file_name in os.listdir(folder_path):\n",
    "        file_path = os.path.join(folder_path, file_name)\n",
    "        # Only process files, not subdirectories\n",
    "        if os.path.isfile(file_path):\n",
    "            audio_path = f'rd/{file_name}'\n",
    "            wav, sr = librosa.load(audio_path, sr = None)\n",
    "            if sr != 16000:\n",
    "                wav = resampled_wav_function(wav, orig_sr=sr, target_sr=16000)\n",
    "            output = transcriber(wav)['text']\n",
    "            print(output)\n",
    "\n"
   ]
  }
 ],
 "metadata": {
  "kernelspec": {
   "display_name": "Python 3",
   "language": "python",
   "name": "python3"
  },
  "language_info": {
   "codemirror_mode": {
    "name": "ipython",
    "version": 3
   },
   "file_extension": ".py",
   "mimetype": "text/x-python",
   "name": "python",
   "nbconvert_exporter": "python",
   "pygments_lexer": "ipython3",
   "version": "3.12.6"
  }
 },
 "nbformat": 4,
 "nbformat_minor": 2
}
